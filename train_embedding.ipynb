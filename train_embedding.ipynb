{
 "cells": [
  {
   "cell_type": "code",
   "execution_count": 1,
   "id": "0d1111d2",
   "metadata": {},
   "outputs": [
    {
     "name": "stderr",
     "output_type": "stream",
     "text": [
      "/home/yubaes/anaconda3/envs/DL/lib/python3.7/site-packages/tqdm/auto.py:22: TqdmWarning: IProgress not found. Please update jupyter and ipywidgets. See https://ipywidgets.readthedocs.io/en/stable/user_install.html\n",
      "  from .autonotebook import tqdm as notebook_tqdm\n"
     ]
    }
   ],
   "source": [
    "import os\n",
    "import torch\n",
    "import torch.nn as nn\n",
    "from dataloader import data_loader_and_vocab\n",
    "from trainer import Trainer\n",
    "from utils import get_lr_scheduler,save_vocab\n",
    "from model import CBOW,SkipGram"
   ]
  },
  {
   "cell_type": "code",
   "execution_count": 2,
   "id": "5cba34fa",
   "metadata": {},
   "outputs": [],
   "source": [
    "train_dataloader,vocab = data_loader_and_vocab('cbow','WikiText2','train',96,True,vocab=None)\n",
    "val_dataloader,_ = data_loader_and_vocab('cbow','WikiText2','valid',96,True,vocab=vocab)\n",
    "\n"
   ]
  },
  {
   "cell_type": "code",
   "execution_count": null,
   "id": "e080169c",
   "metadata": {},
   "outputs": [],
   "source": []
  },
  {
   "cell_type": "code",
   "execution_count": 3,
   "id": "485a9584",
   "metadata": {},
   "outputs": [
    {
     "name": "stdout",
     "output_type": "stream",
     "text": [
      "Vocabulary size: 4099\n"
     ]
    }
   ],
   "source": [
    "vocab_size = len(vocab.get_stoi())\n",
    "print(f\"Vocabulary size: {vocab_size}\")"
   ]
  },
  {
   "cell_type": "code",
   "execution_count": 4,
   "id": "cb2e0d51",
   "metadata": {},
   "outputs": [
    {
     "name": "stdout",
     "output_type": "stream",
     "text": [
      "Adjusting learning rate of group 0 to 2.5000e-02.\n"
     ]
    }
   ],
   "source": [
    "model = CBOW(vocab_size=vocab_size)\n",
    "criterion = nn.CrossEntropyLoss()\n",
    "optimizer = torch.optim.Adam(model.parameters(),lr=0.025)\n",
    "lr_scheduler = get_lr_scheduler(optimizer,5, verbose=True)\n",
    "device = torch.device(\"cuda\" if torch.cuda.is_available() else \"cpu\")"
   ]
  },
  {
   "cell_type": "code",
   "execution_count": 5,
   "id": "24e3ed7a",
   "metadata": {},
   "outputs": [],
   "source": [
    "trainer = Trainer(model=model,epochs=10,\n",
    "                 train_dataloader=train_dataloader,\n",
    "                 train_steps=1,\n",
    "                 val_dataloader=val_dataloader,\n",
    "                 val_steps=1,\n",
    "                 criterion=criterion,\n",
    "                 optimizer=optimizer,\n",
    "                 checkpoint_frequency=2,\n",
    "                 lr_scheduler=lr_scheduler,\n",
    "                 device=device,\n",
    "                 model_name='cbow')\n"
   ]
  },
  {
   "cell_type": "code",
   "execution_count": 6,
   "id": "ca60108c",
   "metadata": {},
   "outputs": [
    {
     "name": "stdout",
     "output_type": "stream",
     "text": [
      "Epoch: 1/10, Train Loss=8.32443, Val Loss=7.29668\n",
      "Adjusting learning rate of group 0 to 2.0000e-02.\n",
      "Epoch: 2/10, Train Loss=7.24275, Val Loss=6.46290\n",
      "Adjusting learning rate of group 0 to 1.5000e-02.\n",
      "Epoch: 3/10, Train Loss=6.57678, Val Loss=6.27880\n",
      "Adjusting learning rate of group 0 to 1.0000e-02.\n",
      "Epoch: 4/10, Train Loss=6.26756, Val Loss=6.06825\n",
      "Adjusting learning rate of group 0 to 5.0000e-03.\n",
      "Epoch: 5/10, Train Loss=6.16501, Val Loss=6.06914\n",
      "Adjusting learning rate of group 0 to 0.0000e+00.\n",
      "Epoch: 6/10, Train Loss=6.13688, Val Loss=6.03150\n",
      "Adjusting learning rate of group 0 to -5.0000e-03.\n",
      "Epoch: 7/10, Train Loss=6.11315, Val Loss=6.04903\n",
      "Adjusting learning rate of group 0 to -1.0000e-02.\n",
      "Epoch: 8/10, Train Loss=6.06233, Val Loss=6.26930\n",
      "Adjusting learning rate of group 0 to -1.5000e-02.\n",
      "Epoch: 9/10, Train Loss=6.42379, Val Loss=6.73047\n",
      "Adjusting learning rate of group 0 to -2.0000e-02.\n",
      "Epoch: 10/10, Train Loss=6.83236, Val Loss=7.40173\n",
      "Adjusting learning rate of group 0 to -2.5000e-02.\n"
     ]
    }
   ],
   "source": [
    "trainer.train()"
   ]
  },
  {
   "cell_type": "code",
   "execution_count": 7,
   "id": "4277bf1b",
   "metadata": {},
   "outputs": [],
   "source": [
    "trainer.save_model()\n",
    "trainer.save_loss()\n",
    "save_vocab(vocab)\n"
   ]
  },
  {
   "cell_type": "code",
   "execution_count": null,
   "id": "85567e9a",
   "metadata": {},
   "outputs": [],
   "source": []
  }
 ],
 "metadata": {
  "kernelspec": {
   "display_name": "Python 3",
   "language": "python",
   "name": "python3"
  },
  "language_info": {
   "codemirror_mode": {
    "name": "ipython",
    "version": 3
   },
   "file_extension": ".py",
   "mimetype": "text/x-python",
   "name": "python",
   "nbconvert_exporter": "python",
   "pygments_lexer": "ipython3",
   "version": "3.7.13"
  }
 },
 "nbformat": 4,
 "nbformat_minor": 5
}
